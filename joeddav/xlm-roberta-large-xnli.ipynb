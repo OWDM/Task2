{
 "cells": [
  {
   "cell_type": "code",
   "execution_count": 1,
   "id": "aaedbfad",
   "metadata": {},
   "outputs": [
    {
     "name": "stderr",
     "output_type": "stream",
     "text": [
      "/home/Musaed/Documents/GitHub_My-Repos/Task2/.venv/lib/python3.13/site-packages/tqdm/auto.py:21: TqdmWarning: IProgress not found. Please update jupyter and ipywidgets. See https://ipywidgets.readthedocs.io/en/stable/user_install.html\n",
      "  from .autonotebook import tqdm as notebook_tqdm\n"
     ]
    },
    {
     "name": "stdout",
     "output_type": "stream",
     "text": [
      "Python: 3.13.7\n",
      "PyTorch: 2.8.0+cu128 | CUDA available? True\n",
      "Transformers: 4.56.0\n"
     ]
    }
   ],
   "source": [
    "import sys, torch, transformers\n",
    "print(\"Python:\", sys.version.split()[0])\n",
    "print(\"PyTorch:\", torch.__version__, \"| CUDA available?\", torch.cuda.is_available())\n",
    "print(\"Transformers:\", transformers.__version__)\n"
   ]
  },
  {
   "cell_type": "code",
   "execution_count": 1,
   "id": "246db69f",
   "metadata": {},
   "outputs": [
    {
     "name": "stderr",
     "output_type": "stream",
     "text": [
      "Some weights of the model checkpoint at joeddav/xlm-roberta-large-xnli were not used when initializing XLMRobertaForSequenceClassification: ['roberta.pooler.dense.bias', 'roberta.pooler.dense.weight']\n",
      "- This IS expected if you are initializing XLMRobertaForSequenceClassification from the checkpoint of a model trained on another task or with another architecture (e.g. initializing a BertForSequenceClassification model from a BertForPreTraining model).\n",
      "- This IS NOT expected if you are initializing XLMRobertaForSequenceClassification from the checkpoint of a model that you expect to be exactly identical (initializing a BertForSequenceClassification model from a BertForSequenceClassification model).\n",
      "Device set to use cuda:0\n"
     ]
    },
    {
     "name": "stdout",
     "output_type": "stream",
     "text": [
      "{'sequence': 'I want to refinance my home loan', 'labels': ['Real Estate', 'Mortgage Finance', 'Personal Finance'], 'scores': [0.7073387503623962, 0.19481633603572845, 0.0978449210524559]}\n"
     ]
    }
   ],
   "source": [
    "from transformers import pipeline\n",
    "\n",
    "pipe = pipeline(\"zero-shot-classification\", model=\"joeddav/xlm-roberta-large-xnli\")\n",
    "\n",
    "result = pipe(\n",
    "    \"I want to refinance my home loan\",\n",
    "    candidate_labels=[\"Mortgage Finance\", \"Personal Finance\", \"Real Estate\"]\n",
    ")\n",
    "print(result)\n"
   ]
  },
  {
   "cell_type": "code",
   "execution_count": 2,
   "id": "7380d5aa",
   "metadata": {},
   "outputs": [
    {
     "name": "stderr",
     "output_type": "stream",
     "text": [
      "Some weights of the model checkpoint at joeddav/xlm-roberta-large-xnli were not used when initializing XLMRobertaForSequenceClassification: ['roberta.pooler.dense.bias', 'roberta.pooler.dense.weight']\n",
      "- This IS expected if you are initializing XLMRobertaForSequenceClassification from the checkpoint of a model trained on another task or with another architecture (e.g. initializing a BertForSequenceClassification model from a BertForPreTraining model).\n",
      "- This IS NOT expected if you are initializing XLMRobertaForSequenceClassification from the checkpoint of a model that you expect to be exactly identical (initializing a BertForSequenceClassification model from a BertForSequenceClassification model).\n",
      "Device set to use cuda:0\n"
     ]
    },
    {
     "name": "stdout",
     "output_type": "stream",
     "text": [
      "EN themes →\n",
      "[('Mortgage Finance: home loans, refinancing, interest rates.', 0.987980842590332), ('Personal Finance: budgeting, credit cards, savings.', 0.9428037405014038), ('Real Estate: buying/selling property, market news.', 0.7868875861167908)]\n",
      "\n",
      "AR themes →\n",
      "[('Mortgage Finance: القروض العقارية وإعادة التمويل وأسعار الفائدة.', 0.9959806799888611), ('Personal Finance: الميزانية والبطاقات الائتمانية والادخار.', 0.9238924384117126), ('Real Estate: السوق العقاري وبيع وشراء العقارات.', 0.8046794533729553)]\n"
     ]
    }
   ],
   "source": [
    "from transformers import pipeline\n",
    "\n",
    "# build pipeline (device=0 for GPU, -1 for CPU)\n",
    "pipe = pipeline(\n",
    "    task=\"zero-shot-classification\",\n",
    "    model=\"joeddav/xlm-roberta-large-xnli\",\n",
    "    device=0   # change to -1 if you want CPU only\n",
    ")\n",
    "\n",
    "def rerank_zero_shot(post_text, theme_texts, hypothesis_template=\"This post is about: {}\"):\n",
    "    \"\"\"\n",
    "    Returns list of (label, score) sorted by score descending.\n",
    "    theme_texts: list of strings (theme descriptions in EN or AR)\n",
    "    \"\"\"\n",
    "    out = pipe(\n",
    "        sequences=post_text,\n",
    "        candidate_labels=theme_texts,\n",
    "        multi_label=True,\n",
    "        hypothesis_template=hypothesis_template\n",
    "    )\n",
    "    # zip labels with scores, and sort highest first\n",
    "    return sorted(zip(out[\"labels\"], out[\"scores\"]), key=lambda x: x[1], reverse=True)\n",
    "\n",
    "\n",
    "# sample post in Arabic\n",
    "post_ar = \"أفكر في إعادة تمويل قرض المنزل بعد انخفاض أسعار الفائدة.\"\n",
    "\n",
    "# english-only theme descriptions\n",
    "themes = [\n",
    "    \"Mortgage Finance: home loans, refinancing, interest rates.\",\n",
    "    \"Personal Finance: budgeting, credit cards, savings.\",\n",
    "    \"Real Estate: buying/selling property, market news.\"\n",
    "]\n",
    "\n",
    "# bilingual (English + Arabic) theme descriptions\n",
    "themes_bi = [\n",
    "    \"Mortgage Finance: القروض العقارية وإعادة التمويل وأسعار الفائدة.\",\n",
    "    \"Personal Finance: الميزانية والبطاقات الائتمانية والادخار.\",\n",
    "    \"Real Estate: السوق العقاري وبيع وشراء العقارات.\"\n",
    "]\n",
    "\n",
    "print(\"EN themes →\")\n",
    "print(rerank_zero_shot(post_ar, themes))\n",
    "\n",
    "print(\"\\nAR themes →\")\n",
    "print(rerank_zero_shot(post_ar, themes_bi, hypothesis_template=\"هذا النص يتحدث عن {}\"))\n"
   ]
  }
 ],
 "metadata": {
  "kernelspec": {
   "display_name": ".venv",
   "language": "python",
   "name": "python3"
  },
  "language_info": {
   "codemirror_mode": {
    "name": "ipython",
    "version": 3
   },
   "file_extension": ".py",
   "mimetype": "text/x-python",
   "name": "python",
   "nbconvert_exporter": "python",
   "pygments_lexer": "ipython3",
   "version": "3.13.7"
  }
 },
 "nbformat": 4,
 "nbformat_minor": 5
}
